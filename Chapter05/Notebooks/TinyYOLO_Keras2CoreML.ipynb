{
 "cells": [
  {
   "cell_type": "markdown",
   "metadata": {},
   "source": [
    "# [Machine Learning with Core ML](https://www.packtpub.com/big-data-and-business-intelligence/machine-learning-core-ml)\n",
    "**By:** Joshua Newnham (Author)  \n",
    "**Publisher:** [Packt Publishing](https://www.packtpub.com/)"
   ]
  },
  {
   "cell_type": "markdown",
   "metadata": {},
   "source": [
    "## Chapter 5 - Object Detection using [TinyYOLO2](https://pjreddie.com/darknet/yolov2/) \n",
    "\n",
    "In this notebook we will use the [Core ML Tools Python](https://github.com/apple/coremltools) package to export a YOLO Keras model. YOLO (You Only Look Once) is a performant network that can achieve real-time object detection (object detection meaning the ability to classify and locate multiple objects). Here we have used a varaint of the YOLOv2 architecture called TinyYOLO; as the name suggests, this is a cut-down version of the full network, applicable for smartphone applications. \n",
    "\n",
    "To learn more about YOLO - I point you to the official site and paper, shown below: \n",
    "- https://pjreddie.com/darknet/yolov2/\n",
    "- YOLO9000: Better, Faster, Stronger https://arxiv.org/abs/1612.08242 "
   ]
  },
  {
   "cell_type": "markdown",
   "metadata": {},
   "source": [
    "1 - Ensure that coremltools modules are installed "
   ]
  },
  {
   "cell_type": "code",
   "execution_count": null,
   "metadata": {},
   "outputs": [],
   "source": [
    "!pip install coremltools "
   ]
  },
  {
   "cell_type": "markdown",
   "metadata": {},
   "source": [
    "2 - Import depedencies "
   ]
  },
  {
   "cell_type": "code",
   "execution_count": null,
   "metadata": {},
   "outputs": [],
   "source": [
    "import warnings\n",
    "with warnings.catch_warnings():\n",
    "    warnings.filterwarnings(\"ignore\", category=RuntimeWarning)\n",
    "    \n",
    "    import coremltools"
   ]
  },
  {
   "cell_type": "markdown",
   "metadata": {},
   "source": [
    "3 - Load model and weights from disk and create convert Keras model to an instance of *coremltools.models.MLModel*"
   ]
  },
  {
   "cell_type": "markdown",
   "metadata": {},
   "source": [
    "The following describes the parameters passed to the *convert* function (taken from the official website); to learn more about the parameters available please refer to the project website. \n",
    "- **model:** A trained Keras neural network model which can be a Keras model object, a string with the path to a Keras, or  model file (h5)a tuple of strings, where the first is the path to a Keras model\n",
    "- **input_names:** Optional name(s) that can be given to the inputs of the Keras model. These names will be used in the interface of the Core ML models to refer to the inputs of the Keras model. If not provided, the Keras inputs are named to [input1, input2, …, inputN] in the Core ML model. When multiple inputs are present, the input feature names are in the same order as the Keras inputs.\n",
    "- **image_input_names:** Input names to the Keras model (a subset of the input_names parameter) that can be treated as images by Core ML. All other inputs are treated as MultiArrays (N-D Arrays).\n",
    "- **output_names:** Optional name(s) that can be given to the outputs of the Keras model. These names will be used in the interface of the Core ML models to refer to the outputs of the Keras model. If not provided, the Keras outputs are named to [output1, output2, …, outputN] in the Core ML model. When multiple outputs are present, output feature names are in the same order as the Keras inputs.\n",
    "- **image_scale:** Value by which input images will be scaled before bias is added and Core ML model makes a prediction. Defaults to 1.0. Applicable only if image_input_names is specified. To specify different values for each image input provide a dictionary with input names as keys."
   ]
  },
  {
   "cell_type": "code",
   "execution_count": null,
   "metadata": {},
   "outputs": [],
   "source": [
    "coreml_model = coremltools.converters.keras.convert(\n",
    "    'tinyyolo_voc2007_modelweights.h5',\n",
    "    input_names='image',\n",
    "    image_input_names='image',\n",
    "    output_names='output',\n",
    "    image_scale=1./255.)"
   ]
  },
  {
   "cell_type": "markdown",
   "metadata": {},
   "source": [
    "4 - Add metadata "
   ]
  },
  {
   "cell_type": "markdown",
   "metadata": {},
   "source": [
    "At a high level, the *Core ML model* defines a specification consists of:\n",
    "- **Model description:** Encodes names and type information of the inputs and outputs to the model.\n",
    "- **Model parameters:** The set of parameters required to represent a specific instance of the model.\n",
    "- **Metadata:** Information about the origin, license, and author of the model.\n",
    "\n",
    "With this class, you can inspect a CoreML model, modify metadata (shown below), and make predictions for the purposes of testing using the [**predict** function](https://apple.github.io/coremltools/generated/coremltools.models.MLModel.html?highlight=metadata#coremltools.models.MLModel.predict). "
   ]
  },
  {
   "cell_type": "code",
   "execution_count": null,
   "metadata": {},
   "outputs": [],
   "source": [
    "coreml_model.author = 'Joshua Newnham'\n",
    "coreml_model.license = 'BSD'\n",
    "coreml_model.short_description = 'Keras port of YOLOTiny VOC2007 by Joseph Redmon and Ali Farhadi'\n",
    "coreml_model.input_description['image'] = '416x416 RGB Image'\n",
    "coreml_model.output_description['output'] = '13x13 Grid made up of: [confidence, cx, cy, w, h, 20 x classes] * 5 bounding boxes'"
   ]
  },
  {
   "cell_type": "markdown",
   "metadata": {},
   "source": [
    "5 - Save to disk "
   ]
  },
  {
   "cell_type": "code",
   "execution_count": null,
   "metadata": {},
   "outputs": [],
   "source": [
    "coreml_model.save('tinyyolo_voc2007.mlmodel')"
   ]
  },
  {
   "cell_type": "markdown",
   "metadata": {},
   "source": [
    "## References\n",
    "- [The PASCAL Visual Object Classes Challenge 2007](http://host.robots.ox.ac.uk:8080/pascal/VOC/voc2007/index.html)\n",
    "- [Official YOLO website](https://pjreddie.com/darknet/yolo/)\n",
    "- [Official Core ML Tools website](https://apple.github.io/coremltools)"
   ]
  },
  {
   "cell_type": "code",
   "execution_count": null,
   "metadata": {},
   "outputs": [],
   "source": []
  }
 ],
 "metadata": {
  "kernelspec": {
   "display_name": "Python 2",
   "language": "python",
   "name": "python2"
  },
  "language_info": {
   "codemirror_mode": {
    "name": "ipython",
    "version": 3
   },
   "file_extension": ".py",
   "mimetype": "text/x-python",
   "name": "python",
   "nbconvert_exporter": "python",
   "pygments_lexer": "ipython3",
   "version": "3.5.5"
  }
 },
 "nbformat": 4,
 "nbformat_minor": 2
}
