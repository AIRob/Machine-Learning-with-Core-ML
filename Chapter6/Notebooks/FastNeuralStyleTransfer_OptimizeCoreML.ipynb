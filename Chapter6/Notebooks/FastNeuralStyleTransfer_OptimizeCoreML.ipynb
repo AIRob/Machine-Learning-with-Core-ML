{
 "cells": [
  {
   "cell_type": "code",
   "execution_count": null,
   "metadata": {
    "collapsed": true
   },
   "outputs": [],
   "source": [
    "try:\n",
    "    import coremltools\n",
    "except:\n",
    "    !pip install coremltools>=2.0b1   \n",
    "    import coremltools "
   ]
  },
  {
   "cell_type": "code",
   "execution_count": null,
   "metadata": {},
   "outputs": [],
   "source": [
    "coreml_model = coremltools.models.MLModel('output/FastStyleTransferVanGoghStarryNight.mlmodel')"
   ]
  },
  {
   "cell_type": "markdown",
   "metadata": {},
   "source": [
    "## Half-precision floating points "
   ]
  },
  {
   "cell_type": "code",
   "execution_count": null,
   "metadata": {},
   "outputs": [],
   "source": [
    "fp16_coreml_model = coremltools.utils.convert_neural_network_weights_to_fp16(coreml_model)"
   ]
  },
  {
   "cell_type": "code",
   "execution_count": null,
   "metadata": {},
   "outputs": [],
   "source": [
    "fp16_coreml_model.save('output/fp16_FastStyleTransferVanGoghStarryNight.mlmodel')"
   ]
  },
  {
   "cell_type": "markdown",
   "metadata": {},
   "source": [
    "## Quantization"
   ]
  },
  {
   "cell_type": "code",
   "execution_count": null,
   "metadata": {},
   "outputs": [],
   "source": [
    "from coremltools.models.neural_network import quantization_utils as quant_utils"
   ]
  },
  {
   "cell_type": "code",
   "execution_count": null,
   "metadata": {},
   "outputs": [],
   "source": [
    "lq8_coreml_model = quant_utils.quantize_weights(coreml_model, 8, 'linear')\n",
    "lq4_coreml_model = quant_utils.quantize_weights(coreml_model, 4, 'linear')\n",
    "km8_coreml_model = quant_utils.quantize_weights(coreml_model, 8, 'kmeans')\n",
    "km4_coreml_model = quant_utils.quantize_weights(coreml_model, 4, 'kmeans')"
   ]
  },
  {
   "cell_type": "code",
   "execution_count": null,
   "metadata": {},
   "outputs": [],
   "source": [
    "coremltools.models.MLModel(lq8_coreml_model) \\\n",
    "    .save('output/lq8_FastStyleTransferVanGoghStarryNight.mlmodel')\n",
    "coremltools.models.MLModel(lq4_coreml_model) \\\n",
    "    .save('output/lq4_FastStyleTransferVanGoghStarryNight.mlmodel')\n",
    "coremltools.models.MLModel(km8_coreml_model) \\\n",
    "    .save('output/km8_FastStyleTransferVanGoghStarryNight.mlmodel')\n",
    "coremltools.models.MLModel(km4_coreml_model) \\\n",
    "    .save('output/km8_FastStyleTransferVanGoghStarryNight.mlmodel')"
   ]
  }
 ],
 "metadata": {
  "kernelspec": {
   "display_name": "Python 2",
   "language": "python",
   "name": "python2"
  },
  "language_info": {
   "codemirror_mode": {
    "name": "ipython",
    "version": 2
   },
   "file_extension": ".py",
   "mimetype": "text/x-python",
   "name": "python",
   "nbconvert_exporter": "python",
   "pygments_lexer": "ipython2",
   "version": "2.7.14"
  }
 },
 "nbformat": 4,
 "nbformat_minor": 2
}
