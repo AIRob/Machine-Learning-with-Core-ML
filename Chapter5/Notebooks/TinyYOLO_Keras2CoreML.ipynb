{
 "cells": [
  {
   "cell_type": "markdown",
   "metadata": {},
   "source": [
    "# Machine Learning with CoreML\n",
    "**By:** Joshua Newnham (Author)  \n",
    "**Publisher:** [Packt Publishing](https://www.packtpub.com/)"
   ]
  },
  {
   "cell_type": "markdown",
   "metadata": {},
   "source": [
    "## Chapter 5 - Object Detection using [TinyYOLO2](https://pjreddie.com/darknet/yolov2/) \n",
    "TODO - Write introduction and copy for notebook \n",
    "\n",
    "https://pjreddie.com/darknet/yolov2/\n",
    "\n",
    "YOLO9000: Better, Faster, Stronger https://arxiv.org/abs/1612.08242 \n",
    "\n"
   ]
  },
  {
   "cell_type": "markdown",
   "metadata": {},
   "source": [
    "1 - Ensure that coremltools modules are installed "
   ]
  },
  {
   "cell_type": "code",
   "execution_count": 2,
   "metadata": {},
   "outputs": [
    {
     "name": "stdout",
     "output_type": "stream",
     "text": [
      "Requirement already satisfied: coremltools in /Users/Joshua.Newnham/anaconda/envs/coreml27/lib/python2.7/site-packages (0.8)\r\n",
      "Requirement already satisfied: protobuf>=3.1.0 in /Users/Joshua.Newnham/anaconda/envs/coreml27/lib/python2.7/site-packages (from coremltools) (3.5.2)\r\n",
      "Requirement already satisfied: numpy>=1.10.0 in /Users/Joshua.Newnham/anaconda/envs/coreml27/lib/python2.7/site-packages (from coremltools) (1.14.2)\r\n",
      "Requirement already satisfied: six==1.10.0 in /Users/Joshua.Newnham/anaconda/envs/coreml27/lib/python2.7/site-packages (from coremltools) (1.10.0)\r\n",
      "Requirement already satisfied: setuptools in /Users/Joshua.Newnham/anaconda/envs/coreml27/lib/python2.7/site-packages (from protobuf>=3.1.0->coremltools) (39.0.1)\r\n"
     ]
    }
   ],
   "source": [
    "!pip install coremltools "
   ]
  },
  {
   "cell_type": "markdown",
   "metadata": {},
   "source": [
    "2 - Import depedencies "
   ]
  },
  {
   "cell_type": "code",
   "execution_count": 1,
   "metadata": {},
   "outputs": [
    {
     "name": "stderr",
     "output_type": "stream",
     "text": [
      "WARNING:root:Keras version 2.1.5 detected. Last version known to be fully compatible of Keras is 2.1.3 .\n",
      "WARNING:root:TensorFlow version 1.7.0 detected. Last version known to be fully compatible is 1.5.0 .\n"
     ]
    }
   ],
   "source": [
    "import warnings\n",
    "with warnings.catch_warnings():\n",
    "    warnings.filterwarnings(\"ignore\", category=RuntimeWarning)\n",
    "    \n",
    "    import coremltools"
   ]
  },
  {
   "cell_type": "markdown",
   "metadata": {},
   "source": [
    "3 - Load model and weights from disk "
   ]
  },
  {
   "cell_type": "code",
   "execution_count": null,
   "metadata": {},
   "outputs": [],
   "source": [
    "coreml_model = coremltools.converters.keras.convert(\n",
    "    'tinyyolo_voc2007_modelweights.h5',\n",
    "    input_names='image',\n",
    "    image_input_names='image',\n",
    "    output_names='output',\n",
    "    image_scale=1./255.)"
   ]
  },
  {
   "cell_type": "markdown",
   "metadata": {},
   "source": [
    "4 - Add metadata "
   ]
  },
  {
   "cell_type": "code",
   "execution_count": null,
   "metadata": {},
   "outputs": [],
   "source": [
    "coreml_model.author = 'Joshua Newnham'\n",
    "coreml_model.license = 'BSD'\n",
    "coreml_model.short_description = 'Keras port of YOLOTiny VOC2007 by Joseph Redmon and Ali Farhadi'\n",
    "coreml_model.input_description['image'] = '416x416 RGB Image'\n",
    "coreml_model.output_description['output'] = '13x13 Grid made up of: [confidence, cx, cy, w, h, 20 x classes] * 5 bounding boxes'"
   ]
  },
  {
   "cell_type": "markdown",
   "metadata": {},
   "source": [
    "5 - Save to disk "
   ]
  },
  {
   "cell_type": "code",
   "execution_count": null,
   "metadata": {},
   "outputs": [],
   "source": [
    "coreml_model.save('tinyyolo_voc2007.mlmodel')"
   ]
  },
  {
   "cell_type": "markdown",
   "metadata": {},
   "source": [
    "## References\n",
    "- [The PASCAL Visual Object Classes Challenge 2007](http://host.robots.ox.ac.uk:8080/pascal/VOC/voc2007/index.html)\n",
    "- [Official YOLO website](https://pjreddie.com/darknet/yolo/)\n",
    "- [Official Core ML Tools website](https://apple.github.io/coremltools)"
   ]
  },
  {
   "cell_type": "code",
   "execution_count": null,
   "metadata": {},
   "outputs": [],
   "source": []
  }
 ],
 "metadata": {
  "kernelspec": {
   "display_name": "Python 2",
   "language": "python",
   "name": "python2"
  },
  "language_info": {
   "codemirror_mode": {
    "name": "ipython",
    "version": 3
   },
   "file_extension": ".py",
   "mimetype": "text/x-python",
   "name": "python",
   "nbconvert_exporter": "python",
   "pygments_lexer": "ipython3",
   "version": "3.6.2"
  }
 },
 "nbformat": 4,
 "nbformat_minor": 2
}
